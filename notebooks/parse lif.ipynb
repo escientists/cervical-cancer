{
 "cells": [
  {
   "cell_type": "code",
   "execution_count": 10,
   "metadata": {
    "collapsed": false
   },
   "outputs": [],
   "source": [
    "from bs4 import BeautifulSoup\n",
    "\n"
   ]
  },
  {
   "cell_type": "code",
   "execution_count": 35,
   "metadata": {
    "collapsed": false
   },
   "outputs": [
    {
     "data": {
      "text/plain": [
       "{'xmax': 200, 'xmin': 98, 'ymax': 147, 'ymin': 114}"
      ]
     },
     "execution_count": 35,
     "metadata": {},
     "output_type": "execute_result"
    }
   ],
   "source": [
    "path = './10.lif'\n",
    "def get_bbox(path):\n",
    "    with open(path, 'r') as f:\n",
    "        soup = BeautifulSoup(f, 'lxml')\n",
    "        box = soup.find('bndbox')\n",
    "        keys = ['xmin', 'xmax', 'ymin', 'ymax']\n",
    "        return {key:int(box.find(key).contents[0]) for key in keys}\n",
    "get_bbox(path)"
   ]
  }
 ],
 "metadata": {
  "anaconda-cloud": {},
  "kernelspec": {
   "display_name": "Python [conda root]",
   "language": "python",
   "name": "conda-root-py"
  },
  "language_info": {
   "codemirror_mode": {
    "name": "ipython",
    "version": 3
   },
   "file_extension": ".py",
   "mimetype": "text/x-python",
   "name": "python",
   "nbconvert_exporter": "python",
   "pygments_lexer": "ipython3",
   "version": "3.5.2"
  }
 },
 "nbformat": 4,
 "nbformat_minor": 1
}
