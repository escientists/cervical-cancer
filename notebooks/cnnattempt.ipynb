{
 "cells": [
  {
   "cell_type": "code",
   "execution_count": null,
   "metadata": {
    "collapsed": true
   },
   "outputs": [],
   "source": [
    "import theano\n",
    "theano.config.device = 'gpu'\n",
    "theano.config.floatX = 'float32'"
   ]
  },
  {
   "cell_type": "code",
   "execution_count": 3,
   "metadata": {
    "collapsed": false
   },
   "outputs": [],
   "source": [
    "from keras.preprocessing import image\n",
    "import numpy as np\n",
    "from os import path\n",
    "%matplotlib inline\n",
    "from matplotlib import pyplot as plt\n",
    "from matplotlib import colors\n",
    "import keras"
   ]
  },
  {
   "cell_type": "code",
   "execution_count": 4,
   "metadata": {
    "collapsed": false
   },
   "outputs": [
    {
     "data": {
      "text/plain": [
       "'2.0.4'"
      ]
     },
     "execution_count": 4,
     "metadata": {},
     "output_type": "execute_result"
    }
   ],
   "source": [
    "keras.__version__"
   ]
  },
  {
   "cell_type": "code",
   "execution_count": 5,
   "metadata": {
    "collapsed": false
   },
   "outputs": [
    {
     "name": "stdout",
     "output_type": "stream",
     "text": [
      "Found 2 images belonging to 1 classes.\n"
     ]
    }
   ],
   "source": [
    "base_dir = '/var/scratch/bweel/datasets/cervical/processed/cropped/'\n",
    "test_dir = '/home/cmeijer/cervical-cancer/temp'\n",
    "gen_test_gen = image.ImageDataGenerator(rotation_range=360, zoom_range=[0.90,1], horizontal_flip=True)\n",
    "gen_test = gen_test_gen.flow_from_directory(test_dir, target_size=(64,64), shuffle=False, batch_size=1)"
   ]
  },
  {
   "cell_type": "code",
   "execution_count": 13,
   "metadata": {
    "collapsed": false
   },
   "outputs": [
    {
     "name": "stdout",
     "output_type": "stream",
     "text": [
      "(64, 64, 3)\n"
     ]
    },
    {
     "data": {
      "text/plain": [
       "<matplotlib.image.AxesImage at 0x2aaae9123b50>"
      ]
     },
     "execution_count": 13,
     "metadata": {},
     "output_type": "execute_result"
    },
    {
     "data": {
      "image/png": "[encoded data removed]",
      "text/plain": [
       "<matplotlib.figure.Figure at 0x2aaae9080c50>"
      ]
     },
     "metadata": {},
     "output_type": "display_data"
    }
   ],
   "source": [
    "im = gen_test.next()[0][0]\n",
    "print(im.shape)\n",
    "plt.imshow(-im)"
   ]
  },
  {
   "cell_type": "code",
   "execution_count": 41,
   "metadata": {
    "collapsed": false
   },
   "outputs": [
    {
     "name": "stdout",
     "output_type": "stream",
     "text": [
      "Found 1481 images belonging to 3 classes.\n"
     ]
    }
   ],
   "source": [
    "gen_train_gen = image.ImageDataGenerator(rotation_range=360, zoom_range=[0.90,1], horizontal_flip=True)\n",
    "train = gen_train_gen.flow_from_directory(base_dir, target_size=(64,64), shuffle=True)"
   ]
  },
  {
   "cell_type": "code",
   "execution_count": 42,
   "metadata": {
    "collapsed": false
   },
   "outputs": [],
   "source": [
    "from keras.models import Sequential\n",
    "from keras.layers import BatchNormalization, Conv2D, MaxPool2D, Activation, Flatten\n",
    "from keras.optimizers import Adam\n",
    "from keras.regularizers import l2\n",
    "outputdim = 2  # number of classes\n",
    "weightinit = 'lecun_uniform'  # weight initialization\n",
    "regularization_rate=0.01\n",
    "model = Sequential()\n",
    "model.add(\n",
    "    BatchNormalization(\n",
    "        input_shape=(            \n",
    "            64,64, 3)))\n",
    "model.add(Conv2D(16, 3, padding='same',\n",
    "                            kernel_regularizer=l2(regularization_rate),\n",
    "                            kernel_initializer=weightinit))\n",
    "model.add(BatchNormalization())\n",
    "model.add(Activation('relu'))\n",
    "model.add(MaxPool2D())\n",
    "model.add(Conv2D(16, 3, padding='same',\n",
    "                            kernel_regularizer=l2(regularization_rate),\n",
    "                            kernel_initializer=weightinit))\n",
    "# model.add(BatchNormalization())\n",
    "# model.add(Activation('relu'))\n",
    "# model.add(MaxPool2D())\n",
    "# model.add(Conv2D(16, 3, padding='same',\n",
    "#                             kernel_regularizer=l2(regularization_rate),\n",
    "#                             kernel_initializer=weightinit))\n",
    "model.add(BatchNormalization())\n",
    "model.add(Activation('relu'))\n",
    "model.add(MaxPool2D())\n",
    "model.add(Conv2D(16, 3, padding='same',\n",
    "                            kernel_regularizer=l2(regularization_rate),\n",
    "                            kernel_initializer=weightinit))\n",
    "model.add(BatchNormalization())\n",
    "model.add(Activation('relu'))\n",
    "model.add(MaxPool2D())\n",
    "model.add(Conv2D(16, 3, padding='same',\n",
    "                            kernel_regularizer=l2(regularization_rate),\n",
    "                            kernel_initializer=weightinit))\n",
    "model.add(BatchNormalization())\n",
    "model.add(Activation('relu'))\n",
    "model.add(MaxPool2D())\n",
    "model.add(Conv2D(16, 3, padding='same',\n",
    "                            kernel_regularizer=l2(regularization_rate),\n",
    "                            kernel_initializer=weightinit))\n",
    "model.add(BatchNormalization())\n",
    "model.add(Activation('relu'))\n",
    "model.add(MaxPool2D())\n",
    "model.add(Conv2D(32, 3, padding='same',\n",
    "                            kernel_regularizer=l2(regularization_rate),\n",
    "                            kernel_initializer=weightinit))\n",
    "model.add(BatchNormalization())\n",
    "model.add(Activation('relu'))\n",
    "#model.add(MaxPool2D())\n",
    "model.add(Conv2D(3, (2,2), padding='valid',\n",
    "                            kernel_regularizer=l2(regularization_rate),\n",
    "                            kernel_initializer=weightinit))\n",
    "model.add(BatchNormalization())\n",
    "\n",
    "model.add(Flatten())\n",
    "model.add(Activation(\"softmax\")) # Final classification layer\n",
    "learning_rate=0.001\n",
    "\n",
    "model.compile(loss='categorical_crossentropy',\n",
    "              optimizer=Adam(lr=learning_rate),\n",
    "              metrics=['accuracy'])\n"
   ]
  },
  {
   "cell_type": "code",
   "execution_count": 43,
   "metadata": {
    "collapsed": false
   },
   "outputs": [
    {
     "name": "stdout",
     "output_type": "stream",
     "text": [
      "_________________________________________________________________\n",
      "Layer (type)                 Output Shape              Param #   \n",
      "=================================================================\n",
      "batch_normalization_9 (Batch (None, 64, 64, 3)         12        \n",
      "_________________________________________________________________\n",
      "conv2d_8 (Conv2D)            (None, 64, 64, 16)        448       \n",
      "_________________________________________________________________\n",
      "batch_normalization_10 (Batc (None, 64, 64, 16)        64        \n",
      "_________________________________________________________________\n",
      "activation_8 (Activation)    (None, 64, 64, 16)        0         \n",
      "_________________________________________________________________\n",
      "max_pooling2d_6 (MaxPooling2 (None, 32, 32, 16)        0         \n",
      "_________________________________________________________________\n",
      "conv2d_9 (Conv2D)            (None, 32, 32, 16)        2320      \n",
      "_________________________________________________________________\n",
      "batch_normalization_11 (Batc (None, 32, 32, 16)        64        \n",
      "_________________________________________________________________\n",
      "activation_9 (Activation)    (None, 32, 32, 16)        0         \n",
      "_________________________________________________________________\n",
      "max_pooling2d_7 (MaxPooling2 (None, 16, 16, 16)        0         \n",
      "_________________________________________________________________\n",
      "conv2d_10 (Conv2D)           (None, 16, 16, 16)        2320      \n",
      "_________________________________________________________________\n",
      "batch_normalization_12 (Batc (None, 16, 16, 16)        64        \n",
      "_________________________________________________________________\n",
      "activation_10 (Activation)   (None, 16, 16, 16)        0         \n",
      "_________________________________________________________________\n",
      "max_pooling2d_8 (MaxPooling2 (None, 8, 8, 16)          0         \n",
      "_________________________________________________________________\n",
      "conv2d_11 (Conv2D)           (None, 8, 8, 16)          2320      \n",
      "_________________________________________________________________\n",
      "batch_normalization_13 (Batc (None, 8, 8, 16)          64        \n",
      "_________________________________________________________________\n",
      "activation_11 (Activation)   (None, 8, 8, 16)          0         \n",
      "_________________________________________________________________\n",
      "max_pooling2d_9 (MaxPooling2 (None, 4, 4, 16)          0         \n",
      "_________________________________________________________________\n",
      "conv2d_12 (Conv2D)           (None, 4, 4, 16)          2320      \n",
      "_________________________________________________________________\n",
      "batch_normalization_14 (Batc (None, 4, 4, 16)          64        \n",
      "_________________________________________________________________\n",
      "activation_12 (Activation)   (None, 4, 4, 16)          0         \n",
      "_________________________________________________________________\n",
      "max_pooling2d_10 (MaxPooling (None, 2, 2, 16)          0         \n",
      "_________________________________________________________________\n",
      "conv2d_13 (Conv2D)           (None, 2, 2, 32)          4640      \n",
      "_________________________________________________________________\n",
      "batch_normalization_15 (Batc (None, 2, 2, 32)          128       \n",
      "_________________________________________________________________\n",
      "activation_13 (Activation)   (None, 2, 2, 32)          0         \n",
      "_________________________________________________________________\n",
      "conv2d_14 (Conv2D)           (None, 1, 1, 3)           387       \n",
      "_________________________________________________________________\n",
      "batch_normalization_16 (Batc (None, 1, 1, 3)           12        \n",
      "_________________________________________________________________\n",
      "flatten_2 (Flatten)          (None, 3)                 0         \n",
      "_________________________________________________________________\n",
      "activation_14 (Activation)   (None, 3)                 0         \n",
      "=================================================================\n",
      "Total params: 15,227\n",
      "Trainable params: 14,991\n",
      "Non-trainable params: 236\n",
      "_________________________________________________________________\n"
     ]
    }
   ],
   "source": [
    "model.summary()"
   ]
  },
  {
   "cell_type": "code",
   "execution_count": 44,
   "metadata": {
    "collapsed": false
   },
   "outputs": [],
   "source": [
    "from collections import Counter\n",
    "classCounts = Counter(train.classes)\n",
    "max_val = float(np.mean(classCounts.values()))       \n",
    "class_weights = {class_id : max_val/num_images for class_id, num_images in classCounts.items()}"
   ]
  },
  {
   "cell_type": "code",
   "execution_count": 52,
   "metadata": {
    "collapsed": false
   },
   "outputs": [
    {
     "data": {
      "text/plain": [
       "0.5273463875759622"
      ]
     },
     "execution_count": 52,
     "metadata": {},
     "output_type": "execute_result"
    }
   ],
   "source": [
    "(1.0*max(classCounts.values()))/sum(classCounts.values())"
   ]
  },
  {
   "cell_type": "code",
   "execution_count": 45,
   "metadata": {
    "collapsed": false
   },
   "outputs": [
    {
     "data": {
      "text/plain": [
       "{0: 1.9746666666666668, 1: 0.6320956039265899, 2: 1.097037037037037}"
      ]
     },
     "execution_count": 45,
     "metadata": {},
     "output_type": "execute_result"
    }
   ],
   "source": [
    "class_weights"
   ]
  },
  {
   "cell_type": "code",
   "execution_count": 46,
   "metadata": {
    "collapsed": false
   },
   "outputs": [
    {
     "name": "stdout",
     "output_type": "stream",
     "text": [
      "Epoch 1/10\n",
      "100/100 [==============================] - 51s - loss: 2.1572 - acc: 0.4072    \n",
      "Epoch 2/10\n",
      "100/100 [==============================] - 50s - loss: 1.9229 - acc: 0.4528    \n",
      "Epoch 3/10\n",
      "100/100 [==============================] - 48s - loss: 1.7493 - acc: 0.4664    \n",
      "Epoch 4/10\n",
      "100/100 [==============================] - 53s - loss: 1.6098 - acc: 0.4775    \n",
      "Epoch 5/10\n",
      "100/100 [==============================] - 48s - loss: 1.4899 - acc: 0.5026    \n",
      "Epoch 6/10\n",
      "100/100 [==============================] - 48s - loss: 1.3904 - acc: 0.5036    \n",
      "Epoch 7/10\n",
      "100/100 [==============================] - 49s - loss: 1.3063 - acc: 0.5154    \n",
      "Epoch 8/10\n",
      "100/100 [==============================] - 50s - loss: 1.2404 - acc: 0.5224    \n",
      "Epoch 9/10\n",
      "100/100 [==============================] - 50s - loss: 1.1770 - acc: 0.5126    \n",
      "Epoch 10/10\n",
      "100/100 [==============================] - 48s - loss: 1.1356 - acc: 0.5189    \n"
     ]
    }
   ],
   "source": [
    "#history = model.fit_generator(generator=train, validation_steps=100, steps_per_epoch=1481, epochs=10)\n",
    "history = model.fit_generator(generator=train, validation_steps=100, steps_per_epoch=100, epochs=10, class_weight=class_weights)\n"
   ]
  },
  {
   "cell_type": "code",
   "execution_count": 20,
   "metadata": {
    "collapsed": false
   },
   "outputs": [
    {
     "data": {
      "text/plain": [
       "<matplotlib.legend.Legend at 0x2aab05affd90>"
      ]
     },
     "execution_count": 20,
     "metadata": {},
     "output_type": "execute_result"
    },
    {
     "data": {
      "image/png": "[encoded data removed]",
      "text/plain": [
       "<matplotlib.figure.Figure at 0x2aab05a37150>"
      ]
     },
     "metadata": {},
     "output_type": "display_data"
    }
   ],
   "source": [
    "plt.title('accuracy by epoch')\n",
    "plt.plot(np.zeros(len(history.history['acc'])) + 0.333, label='chance')\n",
    "plt.plot(history.history['acc'], label='train acc')\n",
    "plt.ylim(0,1)\n",
    "plt.legend()"
   ]
  }
 ],
 "metadata": {
  "kernelspec": {
   "display_name": "Python 2",
   "language": "python",
   "name": "python2"
  },
  "language_info": {
   "codemirror_mode": {
    "name": "ipython",
    "version": 2
   },
   "file_extension": ".py",
   "mimetype": "text/x-python",
   "name": "python",
   "nbconvert_exporter": "python",
   "pygments_lexer": "ipython2",
   "version": "2.7.11"
  }
 },
 "nbformat": 4,
 "nbformat_minor": 0
}
